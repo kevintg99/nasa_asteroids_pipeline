{
  "nbformat": 4,
  "nbformat_minor": 0,
  "metadata": {
    "colab": {
      "provenance": [],
      "authorship_tag": "ABX9TyN/T1AH8fPZ54nUFWG0yYCW",
      "include_colab_link": true
    },
    "kernelspec": {
      "name": "python3",
      "display_name": "Python 3"
    },
    "language_info": {
      "name": "python"
    }
  },
  "cells": [
    {
      "cell_type": "markdown",
      "metadata": {
        "id": "view-in-github",
        "colab_type": "text"
      },
      "source": [
        "<a href=\"https://colab.research.google.com/github/kevintg99/nasa_asteroids_pipeline/blob/main/ingestao.ipynb\" target=\"_parent\"><img src=\"https://colab.research.google.com/assets/colab-badge.svg\" alt=\"Open In Colab\"/></a>"
      ]
    },
    {
      "cell_type": "code",
      "execution_count": 1,
      "metadata": {
        "colab": {
          "base_uri": "https://localhost:8080/"
        },
        "id": "xHTmCwZBNwN6",
        "outputId": "e118d85b-75d3-41bb-bfd7-b308923006e1"
      },
      "outputs": [
        {
          "output_type": "stream",
          "name": "stdout",
          "text": [
            "Mounted at /content/drive\n"
          ]
        }
      ],
      "source": [
        "from google.colab import drive\n",
        "drive.mount('/content/drive')"
      ]
    },
    {
      "cell_type": "code",
      "source": [
        "import os\n",
        "import requests\n",
        "import json\n",
        "from datetime import datetime, timedelta"
      ],
      "metadata": {
        "id": "gktEusnYOPYk"
      },
      "execution_count": 2,
      "outputs": []
    },
    {
      "cell_type": "code",
      "source": [
        "!pip install python-dotenv"
      ],
      "metadata": {
        "colab": {
          "base_uri": "https://localhost:8080/"
        },
        "id": "7Tn3tLu_OTPR",
        "outputId": "7b798a82-a412-4ac0-9858-72096d96f444"
      },
      "execution_count": 3,
      "outputs": [
        {
          "output_type": "stream",
          "name": "stdout",
          "text": [
            "Collecting python-dotenv\n",
            "  Downloading python_dotenv-1.1.0-py3-none-any.whl.metadata (24 kB)\n",
            "Downloading python_dotenv-1.1.0-py3-none-any.whl (20 kB)\n",
            "Installing collected packages: python-dotenv\n",
            "Successfully installed python-dotenv-1.1.0\n"
          ]
        }
      ]
    },
    {
      "cell_type": "code",
      "source": [
        "from dotenv import load_dotenv\n",
        "import os\n",
        "\n",
        "env_path = '/content/drive/MyDrive/asteroid_pipeline/api.env'\n",
        "\n",
        "# Carrega as variáveis do .env\n",
        "load_dotenv(dotenv_path=env_path)\n",
        "\n",
        "# Agora você pega a chave assim:\n",
        "API_KEY = os.getenv('NASA_API_KEY')"
      ],
      "metadata": {
        "id": "W9EfHApsQwMq"
      },
      "execution_count": 8,
      "outputs": []
    },
    {
      "cell_type": "code",
      "source": [
        "# Definir o diretório para salvar os dados brutos (staging/raw)\n",
        "raw_data_dir = '/content/drive/MyDrive/asteroid_pipeline/staging/raw'\n",
        "\n",
        "# Criar a pasta se ela não existir ainda\n",
        "os.makedirs(raw_data_dir, exist_ok=True)\n",
        "\n",
        "print(f\"Pasta de dados brutos criada/verificada: {raw_data_dir}\")"
      ],
      "metadata": {
        "colab": {
          "base_uri": "https://localhost:8080/"
        },
        "id": "XrYNUxPRRBUV",
        "outputId": "c564661a-542b-4031-cbd6-2af5a41fc0fe"
      },
      "execution_count": 9,
      "outputs": [
        {
          "output_type": "stream",
          "name": "stdout",
          "text": [
            "Pasta de dados brutos criada/verificada: /content/drive/MyDrive/asteroid_pipeline/staging/raw\n"
          ]
        }
      ]
    },
    {
      "cell_type": "code",
      "source": [
        "import requests\n",
        "import datetime\n",
        "import json\n",
        "\n",
        "# Definindo o período de busca: hoje até 7 dias depois\n",
        "today = datetime.date.today()\n",
        "end_date = today + datetime.timedelta(days=7)\n",
        "\n",
        "start_date_str = today.strftime('%Y-%m-%d')\n",
        "end_date_str = end_date.strftime('%Y-%m-%d')\n",
        "\n",
        "# Montando a URL da API\n",
        "url = f\"https://api.nasa.gov/neo/rest/v1/feed?start_date={start_date_str}&end_date={end_date_str}&api_key={API_KEY}\"\n",
        "\n",
        "# Fazendo a requisição\n",
        "response = requests.get(url)\n",
        "\n",
        "# Verificando se deu certo (HTTP 200)\n",
        "if response.status_code == 200:\n",
        "    data = response.json()\n",
        "\n",
        "    # Definindo o nome do arquivo de saída\n",
        "    output_filename = f'asteroids_{start_date_str}_to_{end_date_str}.json'\n",
        "    output_path = os.path.join(raw_data_dir, output_filename)\n",
        "\n",
        "    # Salvando o JSON no Drive\n",
        "    with open(output_path, 'w') as f:\n",
        "        json.dump(data, f, indent=4)\n",
        "\n",
        "    print(f\"Dados salvos com sucesso em: {output_path}\")\n",
        "else:\n",
        "    print(f\"Erro na requisição! Status Code: {response.status_code}\")\n",
        "    print(response.text)"
      ],
      "metadata": {
        "colab": {
          "base_uri": "https://localhost:8080/"
        },
        "id": "n2UKLhiTSdL7",
        "outputId": "ee05f3b6-998a-4a6b-b634-c40db8ef76fa"
      },
      "execution_count": 10,
      "outputs": [
        {
          "output_type": "stream",
          "name": "stdout",
          "text": [
            "Dados salvos com sucesso em: /content/drive/MyDrive/asteroid_pipeline/staging/raw/asteroids_2025-04-29_to_2025-05-06.json\n"
          ]
        }
      ]
    },
    {
      "cell_type": "code",
      "source": [],
      "metadata": {
        "id": "PbzjbZKzSiy6"
      },
      "execution_count": null,
      "outputs": []
    }
  ]
}