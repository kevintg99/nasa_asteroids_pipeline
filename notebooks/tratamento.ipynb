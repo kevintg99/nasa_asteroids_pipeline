{
  "nbformat": 4,
  "nbformat_minor": 0,
  "metadata": {
    "colab": {
      "provenance": [],
      "authorship_tag": "ABX9TyM6YoWzfg+5MHWsFOkHHSXC",
      "include_colab_link": true
    },
    "kernelspec": {
      "name": "python3",
      "display_name": "Python 3"
    },
    "language_info": {
      "name": "python"
    }
  },
  "cells": [
    {
      "cell_type": "markdown",
      "metadata": {
        "id": "view-in-github",
        "colab_type": "text"
      },
      "source": [
        "<a href=\"https://colab.research.google.com/github/kevintg99/nasa_asteroids_pipeline/blob/main/tratamento.ipynb\" target=\"_parent\"><img src=\"https://colab.research.google.com/assets/colab-badge.svg\" alt=\"Open In Colab\"/></a>"
      ]
    },
    {
      "cell_type": "code",
      "source": [
        "from google.colab import drive\n",
        "drive.mount('/content/drive')\n",
        "\n",
        "import os\n",
        "import pandas as pd\n",
        "import requests\n",
        "import datetime\n",
        "import json\n",
        "from datetime import datetime, timedelta"
      ],
      "metadata": {
        "colab": {
          "base_uri": "https://localhost:8080/"
        },
        "id": "zMpesSARTxcx",
        "outputId": "cb0f33ad-dd41-4386-9790-33bdf62d2005"
      },
      "execution_count": 4,
      "outputs": [
        {
          "output_type": "stream",
          "name": "stdout",
          "text": [
            "Drive already mounted at /content/drive; to attempt to forcibly remount, call drive.mount(\"/content/drive\", force_remount=True).\n"
          ]
        }
      ]
    },
    {
      "cell_type": "code",
      "execution_count": 6,
      "metadata": {
        "id": "0oaKuP_yTI_H"
      },
      "outputs": [],
      "source": [
        "import pandas as pd\n",
        "raw_data_dir = '/content/drive/MyDrive/asteroid_pipeline/staging/raw'\n",
        "input_dir = raw_data_dir\n",
        "output_dir = '/content/drive/MyDrive/asteroid_pipeline/staging/processed'\n",
        "\n",
        "os.makedirs(output_dir, exist_ok=True)\n",
        "\n",
        "files = sorted(os.listdir(input_dir))\n",
        "latest_file = files[-1]\n",
        "input_path = os.path.join(input_dir, latest_file)\n",
        "\n",
        "#Ler o JSON\n",
        "with open(input_path, 'r') as f:\n",
        "    data = json.load(f)"
      ]
    },
    {
      "cell_type": "code",
      "source": [
        "#Extrair os dados dos asteroides\n",
        "asteroids = []\n",
        "for date, neos in data['near_earth_objects'].items():\n",
        "    for neo in neos:\n",
        "        asteroid = {\n",
        "            'id': neo['id'],\n",
        "            'name': neo['name'],\n",
        "            'close_approach_date': date,\n",
        "            'estimated_diameter_min_km': neo['estimated_diameter']['kilometers']['estimated_diameter_min'],\n",
        "            'estimated_diameter_max_km': neo['estimated_diameter']['kilometers']['estimated_diameter_max'],\n",
        "            'is_potentially_hazardous_asteroid': neo['is_potentially_hazardous_asteroid'],\n",
        "            'relative_velocity_km_per_h': float(neo['close_approach_data'][0]['relative_velocity']['kilometers_per_hour']),\n",
        "            'miss_distance_km': float(neo['close_approach_data'][0]['miss_distance']['kilometers'])\n",
        "        }\n",
        "        asteroids.append(asteroid)\n"
      ],
      "metadata": {
        "id": "UaOLdAg-TdBL"
      },
      "execution_count": 7,
      "outputs": []
    },
    {
      "cell_type": "code",
      "source": [
        "#Criar um DataFrame\n",
        "df_asteroids = pd.DataFrame(asteroids)\n",
        "\n",
        "#Salvar o DataFrame transformado\n",
        "output_path = os.path.join(output_dir, 'asteroids_processed.csv')\n",
        "df_asteroids.to_csv(output_path, index=False)\n",
        "\n",
        "print(f\"Dados transformados e salvos em: {output_path}\")"
      ],
      "metadata": {
        "colab": {
          "base_uri": "https://localhost:8080/"
        },
        "id": "T0d0JRLgTj3o",
        "outputId": "a9840f91-9103-4e6e-d3d1-1227ef3d8086"
      },
      "execution_count": 8,
      "outputs": [
        {
          "output_type": "stream",
          "name": "stdout",
          "text": [
            "Dados transformados e salvos em: /content/drive/MyDrive/asteroid_pipeline/staging/processed/asteroids_processed.csv\n"
          ]
        }
      ]
    },
    {
      "cell_type": "code",
      "source": [
        "csv_path = '/content/drive/MyDrive/asteroid_pipeline/staging/processed/asteroids_processed.csv'\n",
        "\n",
        "df_asteroids = pd.read_csv(csv_path)\n",
        "#verificando se ta pa mesmo\n",
        "print(df_asteroids.head())\n"
      ],
      "metadata": {
        "colab": {
          "base_uri": "https://localhost:8080/"
        },
        "id": "q0KvjKB9VMOQ",
        "outputId": "16e633a2-10f4-41f4-f594-df363b38acfd"
      },
      "execution_count": 9,
      "outputs": [
        {
          "output_type": "stream",
          "name": "stdout",
          "text": [
            "        id               name close_approach_date  estimated_diameter_min_km  \\\n",
            "0  2280491  280491 (2004 MO7)          2025-04-30                   0.417402   \n",
            "1  3277704         (2005 JR5)          2025-04-30                   0.101054   \n",
            "2  3550073         (2010 UJ7)          2025-04-30                   0.022108   \n",
            "3  3719999       (2015 KR120)          2025-04-30                   0.067695   \n",
            "4  3802425         (2018 GN1)          2025-04-30                   0.008801   \n",
            "\n",
            "   estimated_diameter_max_km  is_potentially_hazardous_asteroid  \\\n",
            "0                   0.933340                              False   \n",
            "1                   0.225964                              False   \n",
            "2                   0.049436                              False   \n",
            "3                   0.151370                              False   \n",
            "4                   0.019681                              False   \n",
            "\n",
            "   relative_velocity_km_per_h  miss_distance_km  \n",
            "0                84564.391842      3.089635e+07  \n",
            "1                78443.534596      5.607447e+07  \n",
            "2                62969.856295      6.661439e+07  \n",
            "3                59474.494435      4.111472e+07  \n",
            "4                53676.969219      3.000556e+07  \n"
          ]
        }
      ]
    }
  ]
}